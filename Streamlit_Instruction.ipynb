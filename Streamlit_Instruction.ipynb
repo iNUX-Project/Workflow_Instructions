{
 "cells": [
  {
   "cell_type": "markdown",
   "id": "7f7174be",
   "metadata": {},
   "source": [
    "# Instructions to Create Streamlit App"
   ]
  },
  {
   "cell_type": "markdown",
   "id": "0eafd6c4",
   "metadata": {},
   "source": [
    "## Installing and Importing Streamlit "
   ]
  },
  {
   "cell_type": "code",
   "execution_count": 1,
   "id": "6ea2aefb",
   "metadata": {},
   "outputs": [],
   "source": [
    "import streamlit as st"
   ]
  },
  {
   "cell_type": "markdown",
   "id": "a12fd68c",
   "metadata": {},
   "source": [
    "\n",
    "\n",
    "Use *pip install streamlit* in Command Prompt \n",
    "\n",
    "To import use *import streamlit as st* \n",
    "\n",
    " Preferred usage interface \n",
    "\n",
    "- Visual Studio \n",
    "- IDLE \n",
    "\n",
    "Note file needs to be saved as **.py not .ipynb**\n"
   ]
  },
  {
   "cell_type": "markdown",
   "id": "7dfc322f",
   "metadata": {},
   "source": [
    "## How to open a Streamlit app"
   ]
  },
  {
   "cell_type": "markdown",
   "id": "e7eb6ad8",
   "metadata": {},
   "source": [
    "To open a streamlit app open command prompt \n",
    "\n",
    "cd -> go to the location of folder where the app is stored\n",
    "\n",
    "type **streamlit run myapp.py*\n",
    "\n",
    "Note - replace myapp.py with filename"
   ]
  },
  {
   "cell_type": "markdown",
   "id": "41eda2f3",
   "metadata": {},
   "source": [
    "## How to Write Content within Streamlit\n",
    "\n",
    "### Basic Writing \n",
    "\n",
    "Just like we use the print command to show anything on the display in case of streamlit to display anything on the screen, st.write() can be used to display anything on the app screen. "
   ]
  },
  {
   "cell_type": "markdown",
   "id": "a77f83a1",
   "metadata": {},
   "source": [
    "st.write(\"Inux Project\")"
   ]
  },
  {
   "cell_type": "markdown",
   "id": "4f7a889a",
   "metadata": {},
   "source": [
    "### Headers and content \n",
    "\n",
    "st.header(), st.subheader()  and many other such commands can be used \n",
    "\n",
    "Refer: [Documentation on Text Elements in Streamlit](https://docs.streamlit.io/library/api-reference/text)\n"
   ]
  },
  {
   "cell_type": "code",
   "execution_count": null,
   "id": "eabd483f",
   "metadata": {},
   "outputs": [],
   "source": [
    "st.write()"
   ]
  },
  {
   "cell_type": "markdown",
   "id": "53537380",
   "metadata": {},
   "source": [
    "### Writing content in Markdown \n",
    "\n",
    "To write content in Markdown use \"\"\" to start the area where markdown content would be written and \"\"\" to define the end zone \n",
    "Other then this the function st.markdown() can also be used to write content in Markdown\n",
    "\n",
    "Refer: [st.markdown documentation](https://docs.streamlit.io/library/api-reference/text/st.markdown) for more info on how can you use diffrent colours."
   ]
  },
  {
   "cell_type": "code",
   "execution_count": null,
   "id": "d93f4b1a",
   "metadata": {},
   "outputs": [],
   "source": [
    "st.markdown(:green[\"Text in Green\"])  ## Example of how to use coloured text \n",
    "\n",
    "### Same can be down with headers and sub headers. "
   ]
  },
  {
   "cell_type": "markdown",
   "id": "382ccc9a",
   "metadata": {},
   "source": [
    "### Writing Equations"
   ]
  },
  {
   "cell_type": "markdown",
   "id": "a66440b4",
   "metadata": {},
   "source": [
    "To Write Equations it is prefereed to use the Markdown Syntax with two dollar signs $$ \n",
    "\n",
    "Mathpix Snipping tool can be utilized to take a snip of the equation and directly get the equation in markdown in this syntax \n"
   ]
  },
  {
   "cell_type": "code",
   "execution_count": null,
   "id": "27084047",
   "metadata": {},
   "outputs": [],
   "source": [
    "latext = r'''\n",
    "$$\n",
    "write equation\n",
    "$$\n",
    "'''\n",
    "st.write(latext)"
   ]
  },
  {
   "cell_type": "code",
   "execution_count": null,
   "id": "116ce65a",
   "metadata": {},
   "outputs": [],
   "source": [
    "\n",
    "    \"\"\"\n",
    "    Example of writing content in Markdown in Streamlit \n",
    "    * Example 1\n",
    "    * Example 2 \n",
    "\n",
    "\"\"\"\""
   ]
  },
  {
   "cell_type": "markdown",
   "id": "0cce2157",
   "metadata": {},
   "source": [
    "### Plotting Graphs and Charts \n",
    "\n",
    "A simmilar method of plotting is used in streamlit, the only diffrence being instead of plt.show() the syntax st.pyplot() is used the following example illustrates the following "
   ]
  },
  {
   "cell_type": "code",
   "execution_count": null,
   "id": "17278070",
   "metadata": {},
   "outputs": [],
   "source": [
    "fig, ax = plt.subplots()\n",
    "ax.plot(adjtimes, cdts, label=\" Predicted data\")\n",
    "ax.plot(test_time, norm_heads, label=\"Field data\")\n",
    "ax.set_xlabel(\"time\")\n",
    "ax.set_ylabel(\"head\")\n",
    "ax.set_title(\"Curve Matching\")\n",
    "ax.legend()\n",
    "\n",
    "st.pyplot(fig)\n"
   ]
  },
  {
   "cell_type": "markdown",
   "id": "42a17226",
   "metadata": {},
   "source": [
    "### Plotting and saving the Image in Bufffer Memory \n",
    "\n",
    "Since most of the streamlit apps that we would be running would be cloud based therefore some of the images might have to be stored in a temporary manner. Which can be done using the following code block in addition to the previous block\n",
    "\n",
    "One other advantage of displaying the image in this form is that its dimensions on the app page can be modified. \n"
   ]
  },
  {
   "cell_type": "markdown",
   "id": "39343666",
   "metadata": {},
   "source": [
    "### Inseting Images \n",
    "\n",
    "To insert an Image inside a Streamlit app the st.image() function can be used the following example illustrates. \n",
    "For [more information on images refer](https://docs.streamlit.io/library/api-reference/media)"
   ]
  },
  {
   "cell_type": "code",
   "execution_count": null,
   "id": "3a6dc5a8",
   "metadata": {},
   "outputs": [],
   "source": [
    "image2 = Image.open('HYJO-D-21-00139_Fig_01.tif')\n",
    "image3=Image.open('HYJO-D-21-00139_Fig_08.tif')\n",
    "st.image(image2,width=600,caption='Figure 1')\n",
    "st.image(image3,width=600, caption=\"Figure 2\")"
   ]
  },
  {
   "cell_type": "code",
   "execution_count": null,
   "id": "fbf51910",
   "metadata": {},
   "outputs": [],
   "source": [
    "buffer2 = io.BytesIO()\n",
    "fig2.savefig(buffer2, format='png')\n",
    "buffer2.seek(0)\n",
    "data2 = base64.b64encode(buffer2.read()).decode()\n",
    "html2 = f'<img src=\"data:image/png;base64,{data2}\" width=500, height=300>'\n",
    "st.write(html2, unsafe_allow_html=True)"
   ]
  },
  {
   "cell_type": "markdown",
   "id": "99454da0",
   "metadata": {},
   "source": [
    "### Aligning Content \n",
    "\n",
    "In Order to align the content, the page can be divided into diffrent columns, where diffrent material can be filled in each column this can be for a single line and also for multiple lines this can be done by"
   ]
  },
  {
   "cell_type": "code",
   "execution_count": null,
   "id": "0c941b05",
   "metadata": {},
   "outputs": [],
   "source": [
    "col1, col2, col3 = st.columns(3)\n",
    "with col1:\n",
    "    st.write('')\n",
    "        \n",
    "\n",
    "with col2:\n",
    "    st.image(\"https://static.streamlit.io/examples/dog.jpg\")\n",
    "        \n",
    "    st.caption(\"Alligning Content in Centre\")\n",
    "\n",
    "with col3:\n",
    "    st.write('')\n",
    "    "
   ]
  },
  {
   "cell_type": "markdown",
   "id": "713b6e84",
   "metadata": {},
   "source": [
    "## Creating different pages within the app \n",
    "\n",
    "To Create different pages in the app a simple method can be used where a list is shown in the main of the code, and different functions can be used to define each and every page \n",
    "\n",
    "**Note- Values can not be returned from these functions to the main code block again a different method needs to be used which is explained below.** \n",
    "\n",
    "Define a List as Radio Buttons or a Drop Down Menu in the main of the program so that the user can select what page they want to go.\n",
    "\n",
    "The selcetion within the code takes to a function defined individually for that page \n",
    "\n",
    "_Example_\n",
    "\n",
    "Here st.sidebar command is used which when used can be used to display the content on sidebar instead of the main app "
   ]
  },
  {
   "cell_type": "code",
   "execution_count": null,
   "id": "6a5307c5",
   "metadata": {},
   "outputs": [],
   "source": [
    "menu = [\"Page 1\",\"Page 2\",\"Page 3\"]\n",
    "choice = st.sidebar.radio(\"Select a page\", menu) #st.selectbox for dropdown menu \n",
    "\n",
    "if choice == \"Page A\" :\n",
    "  pageA()\n",
    "\n",
    "def pageA :\n",
    "    \n",
    "    st.write(\"Inside Page A\")"
   ]
  },
  {
   "cell_type": "markdown",
   "id": "eb9a107c",
   "metadata": {},
   "source": [
    "**Returning Values from Function to Main by defining global variables**\n",
    "\n",
    "st.session state can be used to set a varibale as a global variable later this value can be retrived at any point in the code \n",
    "\n",
    "_Example_"
   ]
  },
  {
   "cell_type": "code",
   "execution_count": null,
   "id": "72b24416",
   "metadata": {},
   "outputs": [],
   "source": [
    "# Defining \n",
    "st.session_state.x1 = x1\n",
    "\n",
    "# Retriving \n",
    "x1=st.session_state.x1"
   ]
  },
  {
   "cell_type": "markdown",
   "id": "ad918a32",
   "metadata": {},
   "source": [
    "### Creating Sub Pages or Tabs within a page \n",
    "\n",
    "To create a tab within a page like the following, the follwoing example can be followed \n",
    "\n",
    "<img src='multi_tab.png' width='75%'></img>"
   ]
  },
  {
   "cell_type": "code",
   "execution_count": null,
   "id": "4c794c7f",
   "metadata": {},
   "outputs": [],
   "source": [
    "Tab_A,Tab_B,Tab_C = st.tabs([\"Tab A\", \"Tab B\",\"Tab C\"])\n",
    "    with Tab_A :\n",
    "        st.write(\"inside Tab A\")\n",
    "        \n",
    "    with Tab_B :\n",
    "        st.write(\"Tab B\")"
   ]
  },
  {
   "cell_type": "markdown",
   "id": "e6eb4102",
   "metadata": {},
   "source": [
    "## Uploading Files \n",
    "\n",
    "The following example illustrates how to upload a CSV file into a  streamlit app, in the later stages the data in this file can be used in any possible manner for computation. \n",
    "\n",
    "In the following Pandas Library is used to read the data frame _import pandas as pd_ "
   ]
  },
  {
   "cell_type": "code",
   "execution_count": null,
   "id": "5a055e9d",
   "metadata": {},
   "outputs": [],
   "source": [
    "uploaded_file = st.file_uploader(\"Choose a CSV file\", type=\"csv\")\n",
    "\n",
    "if uploaded_file is not None:\n",
    "    df = pd.read_csv(uploaded_file)\n",
    "    st.write(df)"
   ]
  },
  {
   "cell_type": "markdown",
   "id": "87137c18",
   "metadata": {},
   "source": [
    "## Setting Page Configuratiuon \n",
    "\n",
    "Page configuration can be used to set up, the logo, the title of the page the background and manysuch more things the following example illustrates how to set a page title and page logo. \n",
    "\n",
    "The icon can be set as any of the images or emoji."
   ]
  },
  {
   "cell_type": "code",
   "execution_count": null,
   "id": "71f4eea1",
   "metadata": {},
   "outputs": [],
   "source": [
    "st.set_page_config(\n",
    "    layout=\"centered\", page_title=\"Theis  Type Curve\", page_icon=\"📈\"\n",
    ")"
   ]
  },
  {
   "cell_type": "markdown",
   "id": "829cbd80",
   "metadata": {},
   "source": [
    "### Page Background and colour and text allignment "
   ]
  },
  {
   "cell_type": "code",
   "execution_count": null,
   "id": "09b10b22",
   "metadata": {},
   "outputs": [],
   "source": [
    "st.markdown(\n",
    "    \"\"\"\n",
    "    <style>\n",
    "    body {\n",
    "        background-color: ##00c69b;\n",
    "    }\n",
    "    </style>\n",
    "    \"\"\",\n",
    "    unsafe_allow_html=True\n",
    ")"
   ]
  }
 ],
 "metadata": {
  "kernelspec": {
   "display_name": "Python 3 (ipykernel)",
   "language": "python",
   "name": "python3"
  },
  "language_info": {
   "codemirror_mode": {
    "name": "ipython",
    "version": 3
   },
   "file_extension": ".py",
   "mimetype": "text/x-python",
   "name": "python",
   "nbconvert_exporter": "python",
   "pygments_lexer": "ipython3",
   "version": "3.11.3"
  }
 },
 "nbformat": 4,
 "nbformat_minor": 5
}
